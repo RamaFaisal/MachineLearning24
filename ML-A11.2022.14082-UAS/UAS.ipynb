{
 "cells": [
  {
   "cell_type": "code",
   "execution_count": 3,
   "id": "4a1b57b0-dda0-4990-8b67-41bbb0c670a7",
   "metadata": {},
   "outputs": [
    {
     "data": {
      "text/html": [
       "<div>\n",
       "<style scoped>\n",
       "    .dataframe tbody tr th:only-of-type {\n",
       "        vertical-align: middle;\n",
       "    }\n",
       "\n",
       "    .dataframe tbody tr th {\n",
       "        vertical-align: top;\n",
       "    }\n",
       "\n",
       "    .dataframe thead th {\n",
       "        text-align: right;\n",
       "    }\n",
       "</style>\n",
       "<table border=\"1\" class=\"dataframe\">\n",
       "  <thead>\n",
       "    <tr style=\"text-align: right;\">\n",
       "      <th></th>\n",
       "      <th>Game Name</th>\n",
       "      <th>Developer</th>\n",
       "      <th>Genre</th>\n",
       "      <th>Rating</th>\n",
       "    </tr>\n",
       "  </thead>\n",
       "  <tbody>\n",
       "    <tr>\n",
       "      <th>0</th>\n",
       "      <td>Candy Crush Saga</td>\n",
       "      <td>King</td>\n",
       "      <td>Puzzle</td>\n",
       "      <td>4.6</td>\n",
       "    </tr>\n",
       "    <tr>\n",
       "      <th>1</th>\n",
       "      <td>Clash of Clans</td>\n",
       "      <td>Supercell</td>\n",
       "      <td>Strategy</td>\n",
       "      <td>4.5</td>\n",
       "    </tr>\n",
       "    <tr>\n",
       "      <th>2</th>\n",
       "      <td>Among Us</td>\n",
       "      <td>InnerSloth</td>\n",
       "      <td>Party</td>\n",
       "      <td>4.4</td>\n",
       "    </tr>\n",
       "    <tr>\n",
       "      <th>3</th>\n",
       "      <td>Pokémon GO</td>\n",
       "      <td>Niantic</td>\n",
       "      <td>Augmented Reality</td>\n",
       "      <td>4.3</td>\n",
       "    </tr>\n",
       "    <tr>\n",
       "      <th>4</th>\n",
       "      <td>PUBG Mobile</td>\n",
       "      <td>Tencent Games</td>\n",
       "      <td>Battle Royale</td>\n",
       "      <td>4.2</td>\n",
       "    </tr>\n",
       "  </tbody>\n",
       "</table>\n",
       "</div>"
      ],
      "text/plain": [
       "          Game Name      Developer              Genre  Rating\n",
       "0  Candy Crush Saga           King             Puzzle     4.6\n",
       "1    Clash of Clans      Supercell           Strategy     4.5\n",
       "2          Among Us     InnerSloth              Party     4.4\n",
       "3        Pokémon GO        Niantic  Augmented Reality     4.3\n",
       "4       PUBG Mobile  Tencent Games      Battle Royale     4.2"
      ]
     },
     "execution_count": 3,
     "metadata": {},
     "output_type": "execute_result"
    }
   ],
   "source": [
    "import pandas as pd\n",
    "\n",
    "# Memuat dataset\n",
    "df = pd.read_csv('ratings.csv')\n",
    "\n",
    "df.head()"
   ]
  },
  {
   "cell_type": "code",
   "execution_count": 4,
   "id": "fd495f63-331c-480f-b4bc-b1bd6be76384",
   "metadata": {},
   "outputs": [
    {
     "name": "stdout",
     "output_type": "stream",
     "text": [
      "Jumlah missing values setelah penghapusan:\n",
      "Game Name    0\n",
      "Developer    0\n",
      "Genre        0\n",
      "Rating       0\n",
      "dtype: int64\n",
      "Dataset setelah One-Hot Encoding:\n",
      "          Game Name  Rating  Genre_Action  Genre_Action RPG  Genre_Adventure  \\\n",
      "0  Candy Crush Saga     4.6         False             False            False   \n",
      "1    Clash of Clans     4.5         False             False            False   \n",
      "2          Among Us     4.4         False             False            False   \n",
      "3        Pokémon GO     4.3         False             False            False   \n",
      "4       PUBG Mobile     4.2         False             False            False   \n",
      "\n",
      "   Genre_Arcade  Genre_Augmented Reality  Genre_Battle Royale  Genre_Card  \\\n",
      "0         False                    False                False       False   \n",
      "1         False                    False                False       False   \n",
      "2         False                    False                False       False   \n",
      "3         False                     True                False       False   \n",
      "4         False                    False                 True       False   \n",
      "\n",
      "   Genre_Casual  ...  Developer_Supercell  Developer_Supergiant Games  \\\n",
      "0         False  ...                False                       False   \n",
      "1         False  ...                 True                       False   \n",
      "2         False  ...                False                       False   \n",
      "3         False  ...                False                       False   \n",
      "4         False  ...                False                       False   \n",
      "\n",
      "   Developer_Ten Square Games  Developer_Tencent Games  Developer_Toca Boca  \\\n",
      "0                       False                    False                False   \n",
      "1                       False                    False                False   \n",
      "2                       False                    False                False   \n",
      "3                       False                    False                False   \n",
      "4                       False                     True                False   \n",
      "\n",
      "   Developer_Ubisoft  Developer_Ustwo Games  Developer_ZeptoLab  \\\n",
      "0              False                  False               False   \n",
      "1              False                  False               False   \n",
      "2              False                  False               False   \n",
      "3              False                  False               False   \n",
      "4              False                  False               False   \n",
      "\n",
      "   Developer_Zynga  Developer_miHoYo  \n",
      "0            False             False  \n",
      "1            False             False  \n",
      "2            False             False  \n",
      "3            False             False  \n",
      "4            False             False  \n",
      "\n",
      "[5 rows x 107 columns]\n"
     ]
    }
   ],
   "source": [
    "# Menghapus baris dengan missing values\n",
    "df.dropna(inplace=True)\n",
    "print(\"Jumlah missing values setelah penghapusan:\")\n",
    "print(df.isnull().sum())\n",
    "\n",
    "# Mengonversi kolom kategori menjadi tipe data numerik menggunakan One-Hot Encoding\n",
    "df = pd.get_dummies(df, columns=['Genre', 'Developer'])\n",
    "\n",
    "print(\"Dataset setelah One-Hot Encoding:\")\n",
    "print(df.head())\n"
   ]
  },
  {
   "cell_type": "code",
   "execution_count": 5,
   "id": "0b4ff691-0c90-4e6a-b70a-ea90b8121a36",
   "metadata": {},
   "outputs": [
    {
     "name": "stdout",
     "output_type": "stream",
     "text": [
      "Fitur (X):\n",
      "   Genre_Action  Genre_Action RPG  Genre_Adventure  Genre_Arcade  \\\n",
      "0         False             False            False         False   \n",
      "1         False             False            False         False   \n",
      "2         False             False            False         False   \n",
      "3         False             False            False         False   \n",
      "4         False             False            False         False   \n",
      "\n",
      "   Genre_Augmented Reality  Genre_Battle Royale  Genre_Card  Genre_Casual  \\\n",
      "0                    False                False       False         False   \n",
      "1                    False                False       False         False   \n",
      "2                    False                False       False         False   \n",
      "3                     True                False       False         False   \n",
      "4                    False                 True       False         False   \n",
      "\n",
      "   Genre_Clicker  Genre_Endless Runner  ...  Developer_Supercell  \\\n",
      "0          False                 False  ...                False   \n",
      "1          False                 False  ...                 True   \n",
      "2          False                 False  ...                False   \n",
      "3          False                 False  ...                False   \n",
      "4          False                 False  ...                False   \n",
      "\n",
      "   Developer_Supergiant Games  Developer_Ten Square Games  \\\n",
      "0                       False                       False   \n",
      "1                       False                       False   \n",
      "2                       False                       False   \n",
      "3                       False                       False   \n",
      "4                       False                       False   \n",
      "\n",
      "   Developer_Tencent Games  Developer_Toca Boca  Developer_Ubisoft  \\\n",
      "0                    False                False              False   \n",
      "1                    False                False              False   \n",
      "2                    False                False              False   \n",
      "3                    False                False              False   \n",
      "4                     True                False              False   \n",
      "\n",
      "   Developer_Ustwo Games  Developer_ZeptoLab  Developer_Zynga  \\\n",
      "0                  False               False            False   \n",
      "1                  False               False            False   \n",
      "2                  False               False            False   \n",
      "3                  False               False            False   \n",
      "4                  False               False            False   \n",
      "\n",
      "   Developer_miHoYo  \n",
      "0             False  \n",
      "1             False  \n",
      "2             False  \n",
      "3             False  \n",
      "4             False  \n",
      "\n",
      "[5 rows x 105 columns]\n",
      "\n",
      "Target (y):\n",
      "0    4.6\n",
      "1    4.5\n",
      "2    4.4\n",
      "3    4.3\n",
      "4    4.2\n",
      "Name: Rating, dtype: float64\n"
     ]
    }
   ],
   "source": [
    "# Memisahkan fitur dan target\n",
    "X = df.drop(columns=['Rating', 'Game Name'])\n",
    "y = df['Rating']\n",
    "\n",
    "print(\"Fitur (X):\")\n",
    "print(X.head())\n",
    "print(\"\\nTarget (y):\")\n",
    "print(y.head())\n"
   ]
  },
  {
   "cell_type": "code",
   "execution_count": 8,
   "id": "450d2ff1-e9b0-41a9-9339-9ceb73f5f680",
   "metadata": {},
   "outputs": [
    {
     "name": "stdout",
     "output_type": "stream",
     "text": [
      "Ukuran data training dan testing:\n",
      "X_train: (80, 105)\n",
      "X_test: (21, 105)\n",
      "y_train: (80,)\n",
      "y_test: (21,)\n"
     ]
    }
   ],
   "source": [
    "from sklearn.model_selection import train_test_split\n",
    "\n",
    "# Membagi data\n",
    "X_train, X_test, y_train, y_test = train_test_split(X, y, test_size=0.2, random_state=42)\n",
    "\n",
    "print(\"Ukuran data training dan testing:\")\n",
    "print(f\"X_train: {X_train.shape}\")\n",
    "print(f\"X_test: {X_test.shape}\")\n",
    "print(f\"y_train: {y_train.shape}\")\n",
    "print(f\"y_test: {y_test.shape}\")\n"
   ]
  },
  {
   "cell_type": "code",
   "execution_count": 9,
   "id": "58ddb067-da56-4761-aa9f-e6f9b9781c3e",
   "metadata": {},
   "outputs": [
    {
     "name": "stdout",
     "output_type": "stream",
     "text": [
      "Model Regresi Linear telah dilatih.\n"
     ]
    }
   ],
   "source": [
    "from sklearn.linear_model import LinearRegression\n",
    "\n",
    "# Melatih model Regresi Linear\n",
    "lr_model = LinearRegression()\n",
    "lr_model.fit(X_train, y_train)\n",
    "\n",
    "print(\"Model Regresi Linear telah dilatih.\")\n"
   ]
  },
  {
   "cell_type": "code",
   "execution_count": 10,
   "id": "b277e831-95db-43cf-acf0-9a65567402d1",
   "metadata": {},
   "outputs": [
    {
     "name": "stdout",
     "output_type": "stream",
     "text": [
      "Prediksi menggunakan model Regresi Linear:\n",
      "[ 5.00615724e+10  8.31387156e+11  3.31895645e+11  4.34803391e+00\n",
      "  3.31895645e+11  3.31895645e+11  3.39740413e+11 -7.84476747e+09\n",
      " -2.74825759e+11  4.49976730e+00  4.39905930e+00  4.17669296e+00\n",
      "  3.31895645e+11  4.49942780e+00  1.36037011e+11  2.32583507e+11\n",
      " -1.62742775e+11 -1.62742775e+11  4.39869308e+00 -3.39740413e+11\n",
      " -1.62742775e+11]\n"
     ]
    }
   ],
   "source": [
    "# Memprediksi\n",
    "y_pred_lr = lr_model.predict(X_test)\n",
    "\n",
    "print(\"Prediksi menggunakan model Regresi Linear:\")\n",
    "print(y_pred_lr)\n"
   ]
  },
  {
   "cell_type": "code",
   "execution_count": 11,
   "id": "994e688a-0196-4171-81fe-5c99255cd672",
   "metadata": {},
   "outputs": [
    {
     "name": "stdout",
     "output_type": "stream",
     "text": [
      "Regresi Linear - MSE: 7.584877446167036e+22, R2: -1.946991242002131e+24\n"
     ]
    }
   ],
   "source": [
    "from sklearn.metrics import mean_squared_error, r2_score\n",
    "\n",
    "# Evaluasi model\n",
    "mse_lr = mean_squared_error(y_test, y_pred_lr)\n",
    "r2_lr = r2_score(y_test, y_pred_lr)\n",
    "\n",
    "print(f\"Regresi Linear - MSE: {mse_lr}, R2: {r2_lr}\")\n"
   ]
  },
  {
   "cell_type": "code",
   "execution_count": 12,
   "id": "9df91968-3e4e-41d9-8c0d-35ef0da28285",
   "metadata": {},
   "outputs": [
    {
     "data": {
      "image/png": "[encoded data removed]",
      "text/plain": [
       "<Figure size 1000x500 with 1 Axes>"
      ]
     },
     "metadata": {},
     "output_type": "display_data"
    }
   ],
   "source": [
    "import matplotlib.pyplot as plt\n",
    "\n",
    "# Visualisasi hasil\n",
    "plt.figure(figsize=(10, 5))\n",
    "plt.scatter(y_test, y_pred_lr)\n",
    "plt.plot([y_test.min(), y_test.max()], [y_test.min(), y_test.max()], 'k--', lw=2)\n",
    "plt.xlabel('Actual')\n",
    "plt.ylabel('Predicted')\n",
    "plt.title('Regresi Linear: Actual vs Predicted')\n",
    "plt.show()\n"
   ]
  },
  {
   "cell_type": "code",
   "execution_count": 13,
   "id": "9a7bf5d8-2d64-4772-ad35-c744742ac0aa",
   "metadata": {},
   "outputs": [
    {
     "name": "stdout",
     "output_type": "stream",
     "text": [
      "Random Forest\n"
     ]
    }
   ],
   "source": [
    "print(\"Random Forest\")"
   ]
  },
  {
   "cell_type": "code",
   "execution_count": 14,
   "id": "4e797ff8-212f-4e4d-b365-ee0b26e3a5b5",
   "metadata": {},
   "outputs": [
    {
     "name": "stdout",
     "output_type": "stream",
     "text": [
      "Dataset yang dimuat:\n",
      "          Game Name      Developer              Genre  Rating\n",
      "0  Candy Crush Saga           King             Puzzle     4.6\n",
      "1    Clash of Clans      Supercell           Strategy     4.5\n",
      "2          Among Us     InnerSloth              Party     4.4\n",
      "3        Pokémon GO        Niantic  Augmented Reality     4.3\n",
      "4       PUBG Mobile  Tencent Games      Battle Royale     4.2\n"
     ]
    }
   ],
   "source": [
    "import pandas as pd\n",
    "\n",
    "# Memuat dataset\n",
    "df = pd.read_csv('ratings.csv')\n",
    "\n",
    "# Menampilkan beberapa baris pertama\n",
    "print(\"Dataset yang dimuat:\")\n",
    "print(df.head())\n"
   ]
  },
  {
   "cell_type": "code",
   "execution_count": 15,
   "id": "94a930e1-a0de-4fbd-8904-31d4b67da881",
   "metadata": {},
   "outputs": [
    {
     "name": "stdout",
     "output_type": "stream",
     "text": [
      "Jumlah missing values setelah penghapusan:\n",
      "Game Name    0\n",
      "Developer    0\n",
      "Genre        0\n",
      "Rating       0\n",
      "dtype: int64\n",
      "Dataset setelah One-Hot Encoding:\n",
      "          Game Name  Rating  Genre_Action  Genre_Action RPG  Genre_Adventure  \\\n",
      "0  Candy Crush Saga     4.6         False             False            False   \n",
      "1    Clash of Clans     4.5         False             False            False   \n",
      "2          Among Us     4.4         False             False            False   \n",
      "3        Pokémon GO     4.3         False             False            False   \n",
      "4       PUBG Mobile     4.2         False             False            False   \n",
      "\n",
      "   Genre_Arcade  Genre_Augmented Reality  Genre_Battle Royale  Genre_Card  \\\n",
      "0         False                    False                False       False   \n",
      "1         False                    False                False       False   \n",
      "2         False                    False                False       False   \n",
      "3         False                     True                False       False   \n",
      "4         False                    False                 True       False   \n",
      "\n",
      "   Genre_Casual  ...  Developer_Supercell  Developer_Supergiant Games  \\\n",
      "0         False  ...                False                       False   \n",
      "1         False  ...                 True                       False   \n",
      "2         False  ...                False                       False   \n",
      "3         False  ...                False                       False   \n",
      "4         False  ...                False                       False   \n",
      "\n",
      "   Developer_Ten Square Games  Developer_Tencent Games  Developer_Toca Boca  \\\n",
      "0                       False                    False                False   \n",
      "1                       False                    False                False   \n",
      "2                       False                    False                False   \n",
      "3                       False                    False                False   \n",
      "4                       False                     True                False   \n",
      "\n",
      "   Developer_Ubisoft  Developer_Ustwo Games  Developer_ZeptoLab  \\\n",
      "0              False                  False               False   \n",
      "1              False                  False               False   \n",
      "2              False                  False               False   \n",
      "3              False                  False               False   \n",
      "4              False                  False               False   \n",
      "\n",
      "   Developer_Zynga  Developer_miHoYo  \n",
      "0            False             False  \n",
      "1            False             False  \n",
      "2            False             False  \n",
      "3            False             False  \n",
      "4            False             False  \n",
      "\n",
      "[5 rows x 107 columns]\n"
     ]
    }
   ],
   "source": [
    "# Menghapus baris dengan missing values\n",
    "df.dropna(inplace=True)\n",
    "print(\"Jumlah missing values setelah penghapusan:\")\n",
    "print(df.isnull().sum())\n",
    "\n",
    "# Mengonversi kolom kategori menjadi tipe data numerik menggunakan One-Hot Encoding\n",
    "df = pd.get_dummies(df, columns=['Genre', 'Developer'])\n",
    "\n",
    "print(\"Dataset setelah One-Hot Encoding:\")\n",
    "print(df.head())\n"
   ]
  },
  {
   "cell_type": "code",
   "execution_count": 16,
   "id": "1dd59718-563d-42e0-84bb-17e43f5bde9d",
   "metadata": {},
   "outputs": [
    {
     "name": "stdout",
     "output_type": "stream",
     "text": [
      "Fitur (X):\n",
      "   Genre_Action  Genre_Action RPG  Genre_Adventure  Genre_Arcade  \\\n",
      "0         False             False            False         False   \n",
      "1         False             False            False         False   \n",
      "2         False             False            False         False   \n",
      "3         False             False            False         False   \n",
      "4         False             False            False         False   \n",
      "\n",
      "   Genre_Augmented Reality  Genre_Battle Royale  Genre_Card  Genre_Casual  \\\n",
      "0                    False                False       False         False   \n",
      "1                    False                False       False         False   \n",
      "2                    False                False       False         False   \n",
      "3                     True                False       False         False   \n",
      "4                    False                 True       False         False   \n",
      "\n",
      "   Genre_Clicker  Genre_Endless Runner  ...  Developer_Supercell  \\\n",
      "0          False                 False  ...                False   \n",
      "1          False                 False  ...                 True   \n",
      "2          False                 False  ...                False   \n",
      "3          False                 False  ...                False   \n",
      "4          False                 False  ...                False   \n",
      "\n",
      "   Developer_Supergiant Games  Developer_Ten Square Games  \\\n",
      "0                       False                       False   \n",
      "1                       False                       False   \n",
      "2                       False                       False   \n",
      "3                       False                       False   \n",
      "4                       False                       False   \n",
      "\n",
      "   Developer_Tencent Games  Developer_Toca Boca  Developer_Ubisoft  \\\n",
      "0                    False                False              False   \n",
      "1                    False                False              False   \n",
      "2                    False                False              False   \n",
      "3                    False                False              False   \n",
      "4                     True                False              False   \n",
      "\n",
      "   Developer_Ustwo Games  Developer_ZeptoLab  Developer_Zynga  \\\n",
      "0                  False               False            False   \n",
      "1                  False               False            False   \n",
      "2                  False               False            False   \n",
      "3                  False               False            False   \n",
      "4                  False               False            False   \n",
      "\n",
      "   Developer_miHoYo  \n",
      "0             False  \n",
      "1             False  \n",
      "2             False  \n",
      "3             False  \n",
      "4             False  \n",
      "\n",
      "[5 rows x 105 columns]\n",
      "\n",
      "Target (y):\n",
      "0    4.6\n",
      "1    4.5\n",
      "2    4.4\n",
      "3    4.3\n",
      "4    4.2\n",
      "Name: Rating, dtype: float64\n"
     ]
    }
   ],
   "source": [
    "# Memisahkan fitur dan target\n",
    "X = df.drop(columns=['Rating', 'Game Name'])\n",
    "y = df['Rating']\n",
    "\n",
    "print(\"Fitur (X):\")\n",
    "print(X.head())\n",
    "print(\"\\nTarget (y):\")\n",
    "print(y.head())\n"
   ]
  },
  {
   "cell_type": "code",
   "execution_count": 17,
   "id": "a5e9c754-7108-45ab-b319-54ba4da59774",
   "metadata": {},
   "outputs": [
    {
     "name": "stdout",
     "output_type": "stream",
     "text": [
      "Ukuran data training dan testing:\n",
      "X_train: (80, 105)\n",
      "X_test: (21, 105)\n",
      "y_train: (80,)\n",
      "y_test: (21,)\n"
     ]
    }
   ],
   "source": [
    "from sklearn.model_selection import train_test_split\n",
    "\n",
    "# Membagi data\n",
    "X_train, X_test, y_train, y_test = train_test_split(X, y, test_size=0.2, random_state=42)\n",
    "\n",
    "print(\"Ukuran data training dan testing:\")\n",
    "print(f\"X_train: {X_train.shape}\")\n",
    "print(f\"X_test: {X_test.shape}\")\n",
    "print(f\"y_train: {y_train.shape}\")\n",
    "print(f\"y_test: {y_test.shape}\")\n"
   ]
  },
  {
   "cell_type": "code",
   "execution_count": 18,
   "id": "45dc288a-28d1-4184-a756-7f8816555f28",
   "metadata": {},
   "outputs": [
    {
     "name": "stdout",
     "output_type": "stream",
     "text": [
      "Model Random Forest telah dilatih.\n"
     ]
    }
   ],
   "source": [
    "from sklearn.ensemble import RandomForestRegressor\n",
    "\n",
    "# Melatih model Random Forest\n",
    "rf_model = RandomForestRegressor(n_estimators=100, random_state=42)\n",
    "rf_model.fit(X_train, y_train)\n",
    "\n",
    "print(\"Model Random Forest telah dilatih.\")\n"
   ]
  },
  {
   "cell_type": "code",
   "execution_count": 19,
   "id": "95516500-9a50-46f8-b2d5-1ae68fa9c5fc",
   "metadata": {},
   "outputs": [
    {
     "name": "stdout",
     "output_type": "stream",
     "text": [
      "Prediksi menggunakan model Random Forest:\n",
      "[4.369      4.356      4.331      4.415      4.35893333 4.35893333\n",
      " 4.36793333 4.37       4.416      4.479      4.428      4.25\n",
      " 4.331      4.468      4.284      4.315      4.448      4.393\n",
      " 4.393      4.385      4.393     ]\n"
     ]
    }
   ],
   "source": [
    "# Memprediksi\n",
    "y_pred_rf = rf_model.predict(X_test)\n",
    "\n",
    "print(\"Prediksi menggunakan model Random Forest:\")\n",
    "print(y_pred_rf)\n"
   ]
  },
  {
   "cell_type": "code",
   "execution_count": 20,
   "id": "68b95715-f3c1-4a8f-ae31-17b97f2686d3",
   "metadata": {},
   "outputs": [
    {
     "name": "stdout",
     "output_type": "stream",
     "text": [
      "Random Forest - MSE: 0.037381613333333265, R2: 0.04043705005820941\n"
     ]
    }
   ],
   "source": [
    "from sklearn.metrics import mean_squared_error, r2_score\n",
    "\n",
    "# Evaluasi model\n",
    "mse_rf = mean_squared_error(y_test, y_pred_rf)\n",
    "r2_rf = r2_score(y_test, y_pred_rf)\n",
    "\n",
    "print(f\"Random Forest - MSE: {mse_rf}, R2: {r2_rf}\")\n"
   ]
  },
  {
   "cell_type": "code",
   "execution_count": 21,
   "id": "c4125a02-def1-4d01-8a90-4b10390f4fb5",
   "metadata": {},
   "outputs": [
    {
     "data": {
      "image/png": "[encoded data removed]",
      "text/plain": [
       "<Figure size 1000x500 with 1 Axes>"
      ]
     },
     "metadata": {},
     "output_type": "display_data"
    }
   ],
   "source": [
    "import matplotlib.pyplot as plt\n",
    "\n",
    "# Visualisasi hasil\n",
    "plt.figure(figsize=(10, 5))\n",
    "plt.scatter(y_test, y_pred_rf)\n",
    "plt.plot([y_test.min(), y_test.max()], [y_test.min(), y_test.max()], 'k--', lw=2)\n",
    "plt.xlabel('Actual')\n",
    "plt.ylabel('Predicted')\n",
    "plt.title('Random Forest: Actual vs Predicted')\n",
    "plt.show()\n"
   ]
  },
  {
   "cell_type": "code",
   "execution_count": 22,
   "id": "d23f2260-cfaa-45ea-b708-e9b1bd2f2ed1",
   "metadata": {},
   "outputs": [
    {
     "name": "stdout",
     "output_type": "stream",
     "text": [
      "               Model           MSE            R2\n",
      "0  Linear Regression  7.584877e+22 -1.946991e+24\n",
      "1      Random Forest  3.738161e-02  4.043705e-02\n"
     ]
    }
   ],
   "source": [
    "# Membuat DataFrame untuk hasil\n",
    "results = pd.DataFrame({\n",
    "    'Model': ['Linear Regression', 'Random Forest'],\n",
    "    'MSE': [mse_lr, mse_rf],\n",
    "    'R2': [r2_lr, r2_rf]\n",
    "})\n",
    "\n",
    "# Menampilkan hasil\n",
    "print(results)\n"
   ]
  },
  {
   "cell_type": "code",
   "execution_count": 23,
   "id": "c353b979-e381-4e61-8c67-2873fb17a98f",
   "metadata": {},
   "outputs": [
    {
     "data": {
      "image/png": "[encoded data removed]",
      "text/plain": [
       "<Figure size 1000x500 with 2 Axes>"
      ]
     },
     "metadata": {},
     "output_type": "display_data"
    }
   ],
   "source": [
    "import matplotlib.pyplot as plt\n",
    "import seaborn as sns\n",
    "\n",
    "# Visualisasi perbandingan hasil\n",
    "plt.figure(figsize=(10, 5))\n",
    "\n",
    "# Plot MSE\n",
    "plt.subplot(1, 2, 1)\n",
    "sns.barplot(x='Model', y='MSE', data=results)\n",
    "plt.title('Mean Squared Error (MSE)')\n",
    "\n",
    "# Plot R2\n",
    "plt.subplot(1, 2, 2)\n",
    "sns.barplot(x='Model', y='R2', data=results)\n",
    "plt.title('R2 Score')\n",
    "\n",
    "plt.tight_layout()\n",
    "plt.show()\n"
   ]
  },
  {
   "cell_type": "code",
   "execution_count": null,
   "id": "02b0e530-9829-4864-8317-005373294a4e",
   "metadata": {},
   "outputs": [],
   "source": []
  }
 ],
 "metadata": {
  "kernelspec": {
   "display_name": "Python 3 (ipykernel)",
   "language": "python",
   "name": "python3"
  },
  "language_info": {
   "codemirror_mode": {
    "name": "ipython",
    "version": 3
   },
   "file_extension": ".py",
   "mimetype": "text/x-python",
   "name": "python",
   "nbconvert_exporter": "python",
   "pygments_lexer": "ipython3",
   "version": "3.12.3"
  }
 },
 "nbformat": 4,
 "nbformat_minor": 5
}
